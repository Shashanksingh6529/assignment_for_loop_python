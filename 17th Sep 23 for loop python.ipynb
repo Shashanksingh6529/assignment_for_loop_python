{
 "cells": [
  {
   "cell_type": "markdown",
   "id": "9d2d43cd-cc2e-41e0-a55b-05605720ac69",
   "metadata": {},
   "source": [
    "Printing numbers from 1 to 10 using a for loop:"
   ]
  },
  {
   "cell_type": "code",
   "execution_count": 1,
   "id": "15a526ec-1a74-4a4f-81dd-97cc7a8a5c19",
   "metadata": {},
   "outputs": [
    {
     "name": "stdout",
     "output_type": "stream",
     "text": [
      "1\n",
      "2\n",
      "3\n",
      "4\n",
      "5\n",
      "6\n",
      "7\n",
      "8\n",
      "9\n",
      "10\n"
     ]
    }
   ],
   "source": [
    "for i in range(1, 11):\n",
    "    print(i)"
   ]
  },
  {
   "cell_type": "markdown",
   "id": "9c29d88c-e623-41fd-8d42-dd8425d8ce32",
   "metadata": {},
   "source": [
    "Calculating the sum of all numbers in a list using a for loop:"
   ]
  },
  {
   "cell_type": "code",
   "execution_count": 2,
   "id": "c89777fd-e918-471b-b1da-53c1ebe4e088",
   "metadata": {},
   "outputs": [
    {
     "name": "stdout",
     "output_type": "stream",
     "text": [
      "Sum of numbers: 55\n"
     ]
    }
   ],
   "source": [
    "numbers = [1, 2, 3, 4, 5, 6, 7, 8, 9, 10]\n",
    "sum_numbers = 0\n",
    "\n",
    "for num in numbers:\n",
    "    sum_numbers += num\n",
    "\n",
    "print(\"Sum of numbers:\", sum_numbers)"
   ]
  },
  {
   "cell_type": "markdown",
   "id": "1e8d0882-417d-491c-b6e9-b4b6a477c901",
   "metadata": {},
   "source": [
    "Printing the characters of a string in reverse order using a for loop:"
   ]
  },
  {
   "cell_type": "code",
   "execution_count": 3,
   "id": "07d4fcf0-1417-42ee-9f1e-ef5036c8de4b",
   "metadata": {},
   "outputs": [
    {
     "name": "stdout",
     "output_type": "stream",
     "text": [
      "Reversed string: !dlroW ,olleH\n"
     ]
    }
   ],
   "source": [
    "my_string = \"Hello, World!\"\n",
    "reverse_string = \"\"\n",
    "\n",
    "for char in my_string[::-1]:\n",
    "    reverse_string += char\n",
    "\n",
    "print(\"Reversed string:\", reverse_string)"
   ]
  },
  {
   "cell_type": "markdown",
   "id": "1a64050a-06da-4124-b4b7-873df36d23d7",
   "metadata": {},
   "source": [
    "Finding the factorial of a given number using a for loop:"
   ]
  },
  {
   "cell_type": "code",
   "execution_count": 4,
   "id": "0d3370d7-53ca-4fd3-b9e7-42002231163c",
   "metadata": {},
   "outputs": [
    {
     "name": "stdout",
     "output_type": "stream",
     "text": [
      "Factorial of 5 is 120\n"
     ]
    }
   ],
   "source": [
    "number = 5\n",
    "factorial = 1\n",
    "\n",
    "for i in range(1, number + 1):\n",
    "    factorial *= i\n",
    "\n",
    "print(\"Factorial of\", number, \"is\", factorial)"
   ]
  },
  {
   "cell_type": "markdown",
   "id": "a256d730-d093-47c2-aeed-5114710b4fb0",
   "metadata": {},
   "source": [
    "Printing the multiplication table of a given number using a for loop:"
   ]
  },
  {
   "cell_type": "code",
   "execution_count": 5,
   "id": "0e48c4a1-e3dc-44a9-afc5-c856a9f73746",
   "metadata": {},
   "outputs": [
    {
     "name": "stdout",
     "output_type": "stream",
     "text": [
      "5 x 1 = 5\n",
      "5 x 2 = 10\n",
      "5 x 3 = 15\n",
      "5 x 4 = 20\n",
      "5 x 5 = 25\n",
      "5 x 6 = 30\n",
      "5 x 7 = 35\n",
      "5 x 8 = 40\n",
      "5 x 9 = 45\n",
      "5 x 10 = 50\n"
     ]
    }
   ],
   "source": [
    "number = 5\n",
    "\n",
    "for i in range(1, 11):\n",
    "    print(number, \"x\", i, \"=\", number * i)"
   ]
  },
  {
   "cell_type": "raw",
   "id": "1bd17c49-5d7b-4f82-9c17-7779833232e5",
   "metadata": {},
   "source": [
    "Counting the number of even and odd numbers in a list using a for loop:"
   ]
  },
  {
   "cell_type": "code",
   "execution_count": 6,
   "id": "e96c1912-4875-4aa4-ab40-3f79ff348369",
   "metadata": {},
   "outputs": [
    {
     "name": "stdout",
     "output_type": "stream",
     "text": [
      "Number of even numbers: 5\n",
      "Number of odd numbers: 5\n"
     ]
    }
   ],
   "source": [
    "numbers = [1, 2, 3, 4, 5, 6, 7, 8, 9, 10]\n",
    "even_count = 0\n",
    "odd_count = 0\n",
    "\n",
    "for num in numbers:\n",
    "    if num % 2 == 0:\n",
    "        even_count += 1\n",
    "    else:\n",
    "        odd_count += 1\n",
    "\n",
    "print(\"Number of even numbers:\", even_count)\n",
    "print(\"Number of odd numbers:\", odd_count)"
   ]
  },
  {
   "cell_type": "markdown",
   "id": "613419be-72a6-4df5-bfd6-f9e5fad0146a",
   "metadata": {},
   "source": [
    "Printing the squares of numbers from 1 to 5 using a for loop:"
   ]
  },
  {
   "cell_type": "code",
   "execution_count": 8,
   "id": "72734b1f-fe77-4196-8369-90303714a4bb",
   "metadata": {},
   "outputs": [
    {
     "name": "stdout",
     "output_type": "stream",
     "text": [
      "Square of 1 is 1\n",
      "Square of 2 is 4\n",
      "Square of 3 is 9\n",
      "Square of 4 is 16\n",
      "Square of 5 is 25\n"
     ]
    }
   ],
   "source": [
    "for i in range(1, 6):\n",
    "    print(\"Square of\", i, \"is\", i * i)"
   ]
  },
  {
   "cell_type": "markdown",
   "id": "4c2f738f-6ad8-457b-bfcc-ac90a1cbad4e",
   "metadata": {},
   "source": [
    "Finding the length of a string without using the len() function:"
   ]
  },
  {
   "cell_type": "code",
   "execution_count": 9,
   "id": "96772acd-eb19-4b2f-8470-0a4cdf179358",
   "metadata": {},
   "outputs": [
    {
     "name": "stdout",
     "output_type": "stream",
     "text": [
      "Length of string: 13\n"
     ]
    }
   ],
   "source": [
    "my_string = \"Hello, World!\"\n",
    "length = 0\n",
    "\n",
    "for char in my_string:\n",
    "    length += 1\n",
    "\n",
    "print(\"Length of string:\", length)\n"
   ]
  },
  {
   "cell_type": "markdown",
   "id": "c4b0c0cd-1f22-4297-9791-22bf66ce85a2",
   "metadata": {},
   "source": [
    "Calculating the average of a list of numbers using a for loop:"
   ]
  },
  {
   "cell_type": "code",
   "execution_count": 10,
   "id": "54b4ed36-ee07-4937-b767-2f332623b873",
   "metadata": {},
   "outputs": [
    {
     "name": "stdout",
     "output_type": "stream",
     "text": [
      "Average: 3.0\n"
     ]
    }
   ],
   "source": [
    "numbers = [1, 2, 3, 4, 5]\n",
    "total = 0\n",
    "\n",
    "for num in numbers:\n",
    "    total += num\n",
    "\n",
    "average = total / len(numbers)\n",
    "print(\"Average:\", average)\n"
   ]
  },
  {
   "cell_type": "markdown",
   "id": "fcae0b82-39b2-496d-99da-36074b1a421c",
   "metadata": {},
   "source": [
    "Printing the first n Fibonacci numbers using a for loop:"
   ]
  },
  {
   "cell_type": "code",
   "execution_count": 11,
   "id": "d23353ab-1451-437c-83ca-0a1bce03d4f0",
   "metadata": {},
   "outputs": [
    {
     "name": "stdout",
     "output_type": "stream",
     "text": [
      "First 10 Fibonacci numbers: [0, 1, 1, 2, 3, 5, 8, 13, 21, 34]\n"
     ]
    }
   ],
   "source": [
    "n = 10\n",
    "fibonacci_sequence = [0, 1]\n",
    "\n",
    "for i in range(2, n):\n",
    "    next_fib = fibonacci_sequence[-1] + fibonacci_sequence[-2]\n",
    "    fibonacci_sequence.append(next_fib)\n",
    "\n",
    "print(\"First\", n, \"Fibonacci numbers:\", fibonacci_sequence)\n"
   ]
  },
  {
   "cell_type": "markdown",
   "id": "129a81bc-22c4-4571-b63a-1f8a2f3f65ce",
   "metadata": {},
   "source": [
    "Checking if a given list contains any duplicates using a for loop:"
   ]
  },
  {
   "cell_type": "code",
   "execution_count": 12,
   "id": "1f7fcc55-2d08-497f-acfa-da6cefdbf3d5",
   "metadata": {},
   "outputs": [
    {
     "name": "stdout",
     "output_type": "stream",
     "text": [
      "Does the list contain duplicates? False\n"
     ]
    }
   ],
   "source": [
    "def has_duplicates(lst):\n",
    "    seen = set()\n",
    "    for item in lst:\n",
    "        if item in seen:\n",
    "            return True\n",
    "        seen.add(item)\n",
    "    return False\n",
    "\n",
    "my_list = [1, 2, 3, 4, 5, 6, 7, 8, 9, 10]\n",
    "print(\"Does the list contain duplicates?\", has_duplicates(my_list))\n"
   ]
  },
  {
   "cell_type": "markdown",
   "id": "42de25d6-9a66-46f1-9cdc-57f70d1d2ad3",
   "metadata": {},
   "source": [
    "Printing the prime numbers in a given range using a for loop:"
   ]
  },
  {
   "cell_type": "code",
   "execution_count": 13,
   "id": "609a4dc2-562c-476c-b8b5-183978b3e5e6",
   "metadata": {},
   "outputs": [
    {
     "name": "stdout",
     "output_type": "stream",
     "text": [
      "11\n",
      "13\n",
      "17\n",
      "19\n",
      "23\n",
      "29\n",
      "31\n",
      "37\n",
      "41\n",
      "43\n",
      "47\n"
     ]
    }
   ],
   "source": [
    "start = 10\n",
    "end = 50\n",
    "\n",
    "for num in range(start, end+1):\n",
    "    if num > 1:\n",
    "        for i in range(2, num):\n",
    "            if (num % i) == 0:\n",
    "                break\n",
    "        else:\n",
    "            print(num)"
   ]
  },
  {
   "cell_type": "markdown",
   "id": "df668327-3223-418e-a47d-1dcfce690133",
   "metadata": {},
   "source": [
    "Counting the number of vowels in a string using a for loop:"
   ]
  },
  {
   "cell_type": "code",
   "execution_count": 14,
   "id": "e3e29e5c-61ab-4161-bbe7-e8cdf9961632",
   "metadata": {},
   "outputs": [
    {
     "name": "stdout",
     "output_type": "stream",
     "text": [
      "Number of vowels in the string: 3\n"
     ]
    }
   ],
   "source": [
    "def count_vowels(string):\n",
    "    vowels = 'aeiouAEIOU'\n",
    "    count = 0\n",
    "    for char in string:\n",
    "        if char in vowels:\n",
    "            count += 1\n",
    "    return count\n",
    "\n",
    "my_string = \"Hello, World!\"\n",
    "print(\"Number of vowels in the string:\", count_vowels(my_string))"
   ]
  },
  {
   "cell_type": "markdown",
   "id": "8eb5da02-a8c8-4b99-9577-a95d0d65c74e",
   "metadata": {},
   "source": [
    "Finding the maximum element in a 2D list using a nested for loop:"
   ]
  },
  {
   "cell_type": "code",
   "execution_count": 15,
   "id": "32257f7f-61a8-4cd1-ba0d-470678b18eae",
   "metadata": {},
   "outputs": [
    {
     "name": "stdout",
     "output_type": "stream",
     "text": [
      "Maximum element in the 2D list: 9\n"
     ]
    }
   ],
   "source": [
    "matrix = [\n",
    "    [1, 2, 3],\n",
    "    [4, 5, 6],\n",
    "    [7, 8, 9]\n",
    "]\n",
    "\n",
    "max_element = float('-inf')\n",
    "\n",
    "for row in matrix:\n",
    "    for num in row:\n",
    "        if num > max_element:\n",
    "            max_element = num\n",
    "\n",
    "print(\"Maximum element in the 2D list:\", max_element)\n"
   ]
  },
  {
   "cell_type": "markdown",
   "id": "e4800379-d30a-48bd-9236-6a1d44c76827",
   "metadata": {},
   "source": [
    "Removing all occurrences of a specific element from a list using a for loop:"
   ]
  },
  {
   "cell_type": "code",
   "execution_count": 16,
   "id": "a358db0a-8787-42f6-bfa3-75e8222ce0d3",
   "metadata": {},
   "outputs": [
    {
     "name": "stdout",
     "output_type": "stream",
     "text": [
      "List after removing all occurrences of 2 : [1, 3, 4, 5, 6]\n"
     ]
    }
   ],
   "source": [
    "my_list = [1, 2, 3, 4, 2, 5, 6, 2]\n",
    "element_to_remove = 2\n",
    "\n",
    "new_list = [item for item in my_list if item != element_to_remove]\n",
    "\n",
    "print(\"List after removing all occurrences of\", element_to_remove, \":\", new_list)"
   ]
  },
  {
   "cell_type": "markdown",
   "id": "2db62641-7752-46d3-8915-bcaed69d7ef3",
   "metadata": {},
   "source": [
    "Generating a multiplication table for numbers from 1 to 5 using a nested for loop:"
   ]
  },
  {
   "cell_type": "code",
   "execution_count": 17,
   "id": "86eb6634-51dd-4329-b040-2499a38c568c",
   "metadata": {},
   "outputs": [
    {
     "name": "stdout",
     "output_type": "stream",
     "text": [
      "Multiplication table for 1\n",
      "1 x 1 = 1\n",
      "1 x 2 = 2\n",
      "1 x 3 = 3\n",
      "1 x 4 = 4\n",
      "1 x 5 = 5\n",
      "1 x 6 = 6\n",
      "1 x 7 = 7\n",
      "1 x 8 = 8\n",
      "1 x 9 = 9\n",
      "1 x 10 = 10\n",
      "\n",
      "Multiplication table for 2\n",
      "2 x 1 = 2\n",
      "2 x 2 = 4\n",
      "2 x 3 = 6\n",
      "2 x 4 = 8\n",
      "2 x 5 = 10\n",
      "2 x 6 = 12\n",
      "2 x 7 = 14\n",
      "2 x 8 = 16\n",
      "2 x 9 = 18\n",
      "2 x 10 = 20\n",
      "\n",
      "Multiplication table for 3\n",
      "3 x 1 = 3\n",
      "3 x 2 = 6\n",
      "3 x 3 = 9\n",
      "3 x 4 = 12\n",
      "3 x 5 = 15\n",
      "3 x 6 = 18\n",
      "3 x 7 = 21\n",
      "3 x 8 = 24\n",
      "3 x 9 = 27\n",
      "3 x 10 = 30\n",
      "\n",
      "Multiplication table for 4\n",
      "4 x 1 = 4\n",
      "4 x 2 = 8\n",
      "4 x 3 = 12\n",
      "4 x 4 = 16\n",
      "4 x 5 = 20\n",
      "4 x 6 = 24\n",
      "4 x 7 = 28\n",
      "4 x 8 = 32\n",
      "4 x 9 = 36\n",
      "4 x 10 = 40\n",
      "\n",
      "Multiplication table for 5\n",
      "5 x 1 = 5\n",
      "5 x 2 = 10\n",
      "5 x 3 = 15\n",
      "5 x 4 = 20\n",
      "5 x 5 = 25\n",
      "5 x 6 = 30\n",
      "5 x 7 = 35\n",
      "5 x 8 = 40\n",
      "5 x 9 = 45\n",
      "5 x 10 = 50\n",
      "\n"
     ]
    }
   ],
   "source": [
    "for i in range(1, 6):\n",
    "    print(\"Multiplication table for\", i)\n",
    "    for j in range(1, 11):\n",
    "        print(i, \"x\", j, \"=\", i * j)\n",
    "    print()"
   ]
  },
  {
   "cell_type": "markdown",
   "id": "279fccad-b6cc-42f8-b22f-addd26024091",
   "metadata": {},
   "source": [
    "Converting a list of Fahrenheit temperatures to Celsius using a for loop:"
   ]
  },
  {
   "cell_type": "code",
   "execution_count": 18,
   "id": "cd5acb9e-1d51-4da2-a22d-9c756a3eee6a",
   "metadata": {},
   "outputs": [
    {
     "name": "stdout",
     "output_type": "stream",
     "text": [
      "Fahrenheit Temperatures: [32, 68, 77, 104]\n",
      "Celsius Temperatures: [0.0, 20.0, 25.0, 40.0]\n"
     ]
    }
   ],
   "source": [
    "fahrenheit_temperatures = [32, 68, 77, 104]\n",
    "\n",
    "celsius_temperatures = [(temp - 32) * 5/9 for temp in fahrenheit_temperatures]\n",
    "\n",
    "print(\"Fahrenheit Temperatures:\", fahrenheit_temperatures)\n",
    "print(\"Celsius Temperatures:\", celsius_temperatures)"
   ]
  },
  {
   "cell_type": "markdown",
   "id": "41c9ec5b-4c46-46a5-ad98-31c196e6875f",
   "metadata": {},
   "source": [
    "Printing the common elements from two lists using a for loop:"
   ]
  },
  {
   "cell_type": "code",
   "execution_count": 19,
   "id": "1f8c72c1-dc56-4b9c-af9e-18d3ad0f43f6",
   "metadata": {},
   "outputs": [
    {
     "name": "stdout",
     "output_type": "stream",
     "text": [
      "Common elements: [4, 5]\n"
     ]
    }
   ],
   "source": [
    "list1 = [1, 2, 3, 4, 5]\n",
    "list2 = [4, 5, 6, 7, 8]\n",
    "\n",
    "common_elements = []\n",
    "\n",
    "for item in list1:\n",
    "    if item in list2:\n",
    "        common_elements.append(item)\n",
    "\n",
    "print(\"Common elements:\", common_elements)\n"
   ]
  },
  {
   "cell_type": "markdown",
   "id": "9d4f8e73-a9c6-4c96-bec5-75813a0cf95c",
   "metadata": {},
   "source": [
    "Printing the pattern of right-angled triangles using a for loop:"
   ]
  },
  {
   "cell_type": "code",
   "execution_count": 20,
   "id": "d43fd562-c689-4b06-8281-a614ee374f06",
   "metadata": {},
   "outputs": [
    {
     "name": "stdout",
     "output_type": "stream",
     "text": [
      "*\n",
      "**\n",
      "***\n",
      "****\n",
      "*****\n"
     ]
    }
   ],
   "source": [
    "rows = 5\n",
    "\n",
    "for i in range(1, rows + 1):\n",
    "    print('*' * i)\n",
    "    "
   ]
  },
  {
   "cell_type": "markdown",
   "id": "87945fc2-44a9-4a8f-8e07-18436d3e07df",
   "metadata": {},
   "source": [
    "Finding the greatest common divisor (GCD) of two numbers using a for loop:"
   ]
  },
  {
   "cell_type": "code",
   "execution_count": 21,
   "id": "8adfea69-7bdb-49e6-8fa8-642e5916d190",
   "metadata": {},
   "outputs": [
    {
     "name": "stdout",
     "output_type": "stream",
     "text": [
      "GCD of 24 and 36 is 12\n"
     ]
    }
   ],
   "source": [
    "def gcd(a, b):\n",
    "    while b:\n",
    "        a, b = b, a % b\n",
    "    return a\n",
    "\n",
    "num1 = 24\n",
    "num2 = 36\n",
    "\n",
    "print(\"GCD of\", num1, \"and\", num2, \"is\", gcd(num1, num2))"
   ]
  },
  {
   "cell_type": "markdown",
   "id": "24c6c687-96e4-48e2-a1c5-844e10f15db4",
   "metadata": {},
   "source": [
    "Calculating the sum of the digits of numbers in a list using a list comprehension:"
   ]
  },
  {
   "cell_type": "code",
   "execution_count": 22,
   "id": "9f5b37ed-858f-4729-bef7-196de71f9e80",
   "metadata": {},
   "outputs": [
    {
     "name": "stdout",
     "output_type": "stream",
     "text": [
      "Sum of digits for each number: [6, 15, 24]\n"
     ]
    }
   ],
   "source": [
    "numbers = [123, 456, 789]\n",
    "\n",
    "sum_of_digits = [sum(int(digit) for digit in str(num)) for num in numbers]\n",
    "\n",
    "print(\"Sum of digits for each number:\", sum_of_digits)"
   ]
  },
  {
   "cell_type": "markdown",
   "id": "c4cabc8a-0a9b-4d4b-92c9-ff095e40c677",
   "metadata": {},
   "source": [
    "Finding the prime factors of a given number using a for loop and list comprehension:"
   ]
  },
  {
   "cell_type": "code",
   "execution_count": 23,
   "id": "5cb7b165-50e1-49a5-868d-4380e6c14208",
   "metadata": {},
   "outputs": [
    {
     "name": "stdout",
     "output_type": "stream",
     "text": [
      "Prime factors of 56 : [2, 7]\n"
     ]
    }
   ],
   "source": [
    "number = 56\n",
    "\n",
    "prime_factors = [factor for factor in range(2, number + 1) if number % factor == 0 and all(factor % divisor != 0 for divisor in range(2, factor))]\n",
    "\n",
    "print(\"Prime factors of\", number, \":\", prime_factors)"
   ]
  },
  {
   "cell_type": "markdown",
   "id": "25b25944-ddf1-4945-bd77-3e3eddd2f97c",
   "metadata": {},
   "source": [
    "Extracting unique elements from a list and storing them in a new list using list comprehension:"
   ]
  },
  {
   "cell_type": "code",
   "execution_count": 24,
   "id": "ad4d5fbd-0412-410a-9966-60ebfa0e64d8",
   "metadata": {},
   "outputs": [
    {
     "name": "stdout",
     "output_type": "stream",
     "text": [
      "Unique elements: [1, 2, 3, 4, 5, 6]\n"
     ]
    }
   ],
   "source": [
    "original_list = [1, 2, 2, 3, 4, 4, 5, 6, 6]\n",
    "\n",
    "unique_elements = list(set(original_list))\n",
    "\n",
    "print(\"Unique elements:\", unique_elements)"
   ]
  },
  {
   "cell_type": "markdown",
   "id": "fc1923b2-b0f7-4fc5-b99e-9337dd681ffd",
   "metadata": {},
   "source": [
    "Generating a list of all palindromic numbers up to a specified limit using list comprehension:"
   ]
  },
  {
   "cell_type": "code",
   "execution_count": 25,
   "id": "ceacda27-774b-4d61-94a3-db6455edc8b4",
   "metadata": {},
   "outputs": [
    {
     "name": "stdout",
     "output_type": "stream",
     "text": [
      "Palindromic numbers up to 100 : [1, 2, 3, 4, 5, 6, 7, 8, 9, 11, 22, 33, 44, 55, 66, 77, 88, 99]\n"
     ]
    }
   ],
   "source": [
    "limit = 100\n",
    "\n",
    "palindromic_numbers = [num for num in range(1, limit+1) if str(num) == str(num)[::-1]]\n",
    "\n",
    "print(\"Palindromic numbers up to\", limit, \":\", palindromic_numbers)"
   ]
  },
  {
   "cell_type": "markdown",
   "id": "27d4e898-0771-4458-b203-32294572705a",
   "metadata": {},
   "source": [
    "Flattening a nested list using list comprehension:"
   ]
  },
  {
   "cell_type": "code",
   "execution_count": 26,
   "id": "55e192cc-4573-4cb7-9d96-facabb742233",
   "metadata": {},
   "outputs": [
    {
     "name": "stdout",
     "output_type": "stream",
     "text": [
      "Flattened list: [1, 2, 3, 4, 5, 6, 7, 8]\n"
     ]
    }
   ],
   "source": [
    "nested_list = [[1, 2, 3], [4, 5], [6, 7, 8]]\n",
    "\n",
    "flattened_list = [element for sublist in nested_list for element in sublist]\n",
    "\n",
    "print(\"Flattened list:\", flattened_list)"
   ]
  },
  {
   "cell_type": "markdown",
   "id": "80316e0f-50a5-415a-8bde-a81f231e25c6",
   "metadata": {},
   "source": [
    "Computing the sum of even and odd numbers in a list separately using list comprehension:"
   ]
  },
  {
   "cell_type": "code",
   "execution_count": 27,
   "id": "eb835600-2da0-410b-b0fb-322f848cceb7",
   "metadata": {},
   "outputs": [
    {
     "name": "stdout",
     "output_type": "stream",
     "text": [
      "Sum of even numbers: 30\n",
      "Sum of odd numbers: 25\n"
     ]
    }
   ],
   "source": [
    "numbers = [1, 2, 3, 4, 5, 6, 7, 8, 9, 10]\n",
    "\n",
    "sum_even = sum(num for num in numbers if num % 2 == 0)\n",
    "sum_odd = sum(num for num in numbers if num % 2 != 0)\n",
    "\n",
    "print(\"Sum of even numbers:\", sum_even)\n",
    "print(\"Sum of odd numbers:\", sum_odd)"
   ]
  },
  {
   "cell_type": "markdown",
   "id": "387df97f-b614-4777-a7fe-6ecfbc9ce7ad",
   "metadata": {},
   "source": [
    "Generating a list of squares of odd numbers between 1 and 10 using list comprehension:"
   ]
  },
  {
   "cell_type": "code",
   "execution_count": 28,
   "id": "d9330b86-a43b-4893-af37-2b9eff715c4f",
   "metadata": {},
   "outputs": [
    {
     "name": "stdout",
     "output_type": "stream",
     "text": [
      "Squares of odd numbers between 1 and 10: [1, 9, 25, 49, 81]\n"
     ]
    }
   ],
   "source": [
    "squares_of_odd_numbers = [num ** 2 for num in range(1, 11) if num % 2 != 0]\n",
    "\n",
    "print(\"Squares of odd numbers between 1 and 10:\", squares_of_odd_numbers)"
   ]
  },
  {
   "cell_type": "markdown",
   "id": "81377f18-2799-4c2d-bd7b-537ce8bf72e2",
   "metadata": {},
   "source": [
    "Combining two lists into a dictionary using list comprehension:"
   ]
  },
  {
   "cell_type": "code",
   "execution_count": 29,
   "id": "3f5b2329-f272-4aa1-85af-3153f8f285e2",
   "metadata": {},
   "outputs": [
    {
     "name": "stdout",
     "output_type": "stream",
     "text": [
      "Combined dictionary: {'a': 1, 'b': 2, 'c': 3}\n"
     ]
    }
   ],
   "source": [
    "keys = ['a', 'b', 'c']\n",
    "values = [1, 2, 3]\n",
    "\n",
    "combined_dict = {key: value for key, value in zip(keys, values)}\n",
    "\n",
    "print(\"Combined dictionary:\", combined_dict)"
   ]
  },
  {
   "cell_type": "markdown",
   "id": "3f87cd11-0a60-4ab6-a7f5-04d5fa87fa7f",
   "metadata": {},
   "source": [
    "Extracting the vowels from a string and storing them in a list using list comprehension:"
   ]
  },
  {
   "cell_type": "code",
   "execution_count": 30,
   "id": "c1ead60e-0ebe-42f4-a23f-23519535d79e",
   "metadata": {},
   "outputs": [
    {
     "name": "stdout",
     "output_type": "stream",
     "text": [
      "Vowels in the string: ['e', 'o', 'o']\n"
     ]
    }
   ],
   "source": [
    "my_string = \"Hello, World!\"\n",
    "vowels = 'aeiouAEIOU'\n",
    "\n",
    "vowel_list = [char for char in my_string if char in vowels]\n",
    "\n",
    "print(\"Vowels in the string:\", vowel_list)"
   ]
  },
  {
   "cell_type": "markdown",
   "id": "3f2e6c46-9a51-4552-b136-11ae61d8850f",
   "metadata": {},
   "source": [
    "Removing all non-numeric characters from a list of strings using list comprehension:"
   ]
  },
  {
   "cell_type": "code",
   "execution_count": 31,
   "id": "f7d09ebe-0b95-4247-8325-ddf2c61f600d",
   "metadata": {},
   "outputs": [
    {
     "name": "stdout",
     "output_type": "stream",
     "text": [
      "Numeric characters: ['1', '2', '3', '4', '5', '6']\n"
     ]
    }
   ],
   "source": [
    "list_of_strings = ['abc', '123', 'def', '456', 'ghi']\n",
    "\n",
    "numeric_characters = [char for string in list_of_strings for char in string if char.isdigit()]\n",
    "\n",
    "print(\"Numeric characters:\", numeric_characters)"
   ]
  },
  {
   "cell_type": "markdown",
   "id": "c2eee6cc-1d81-46cb-8869-98b8ab9be23f",
   "metadata": {},
   "source": [
    "Generating a list of prime numbers using the Sieve of Eratosthenes algorithm and list comprehension:"
   ]
  },
  {
   "cell_type": "code",
   "execution_count": 32,
   "id": "bf965091-7566-4d26-8ab6-0c38b71a4735",
   "metadata": {},
   "outputs": [
    {
     "name": "stdout",
     "output_type": "stream",
     "text": [
      "Prime numbers up to 100 : [2, 3, 5, 7, 11, 13, 17, 19, 23, 29, 31, 37, 41, 43, 47, 53, 59, 61, 67, 71, 73, 79, 83, 89, 97]\n"
     ]
    }
   ],
   "source": [
    "def sieve_of_eratosthenes(limit):\n",
    "    primes = [True] * (limit + 1)\n",
    "    primes[0] = primes[1] = False\n",
    "    for num in range(2, int(limit**0.5) + 1):\n",
    "        if primes[num]:\n",
    "            primes[num*num:limit+1:num] = [False] * len(primes[num*num:limit+1:num])\n",
    "    return [num for num, is_prime in enumerate(primes) if is_prime]\n",
    "\n",
    "limit = 100\n",
    "prime_numbers = sieve_of_eratosthenes(limit)\n",
    "print(\"Prime numbers up to\", limit, \":\", prime_numbers)"
   ]
  },
  {
   "cell_type": "markdown",
   "id": "f21fd02b-85c0-4c5d-be02-31603c734b53",
   "metadata": {},
   "source": [
    "Generating a list of all Pythagorean triplets up to a specified limit using list comprehension:"
   ]
  },
  {
   "cell_type": "code",
   "execution_count": 33,
   "id": "fbe040f1-19bd-4ee0-8980-83666f3f0996",
   "metadata": {},
   "outputs": [
    {
     "name": "stdout",
     "output_type": "stream",
     "text": [
      "Pythagorean triplets up to 20 : [(3, 4, 5), (5, 12, 13), (6, 8, 10), (8, 15, 17), (9, 12, 15)]\n"
     ]
    }
   ],
   "source": [
    "limit = 20\n",
    "\n",
    "pythagorean_triplets = [(a, b, c) for a in range(1, limit) for b in range(a, limit) for c in range(b, limit) if a**2 + b**2 == c**2]\n",
    "\n",
    "print(\"Pythagorean triplets up to\", limit, \":\", pythagorean_triplets)"
   ]
  },
  {
   "cell_type": "markdown",
   "id": "d37b97b1-da9b-499f-af39-ea3300202a7d",
   "metadata": {},
   "source": [
    "Generating a list of all possible combinations of two lists using list comprehension:"
   ]
  },
  {
   "cell_type": "code",
   "execution_count": 34,
   "id": "fc2b3a49-37cc-4d14-b46b-de9d1f9e86b8",
   "metadata": {},
   "outputs": [
    {
     "name": "stdout",
     "output_type": "stream",
     "text": [
      "Combinations: [(1, 'a'), (1, 'b'), (1, 'c'), (2, 'a'), (2, 'b'), (2, 'c'), (3, 'a'), (3, 'b'), (3, 'c')]\n"
     ]
    }
   ],
   "source": [
    "list1 = [1, 2, 3]\n",
    "list2 = ['a', 'b', 'c']\n",
    "\n",
    "combinations = [(x, y) for x in list1 for y in list2]\n",
    "print(\"Combinations:\", combinations)"
   ]
  },
  {
   "cell_type": "markdown",
   "id": "db52ecca-c8d4-4e6b-b1b9-4fe10f31c742",
   "metadata": {},
   "source": [
    "Calculating the mean, median, and mode of a list of numbers using list comprehension:"
   ]
  },
  {
   "cell_type": "code",
   "execution_count": 35,
   "id": "6a94795b-f567-45af-b15a-3142079d3efe",
   "metadata": {},
   "outputs": [
    {
     "name": "stdout",
     "output_type": "stream",
     "text": [
      "Mean: 5.454545454545454\n",
      "Median: 5\n",
      "Mode: 5\n"
     ]
    }
   ],
   "source": [
    "import statistics\n",
    "\n",
    "numbers = [1, 2, 3, 4, 5, 5, 6, 7, 8, 9, 10]\n",
    "\n",
    "mean = sum(numbers) / len(numbers)\n",
    "median = statistics.median(numbers)\n",
    "mode = statistics.mode(numbers)\n",
    "\n",
    "print(\"Mean:\", mean)\n",
    "print(\"Median:\", median)\n",
    "print(\"Mode:\", mode)"
   ]
  },
  {
   "cell_type": "markdown",
   "id": "3b0bd097-5f15-44f2-84c6-46e341abe418",
   "metadata": {},
   "source": [
    "Generating Pascal's triangle up to a specified number of rows using list comprehension:"
   ]
  },
  {
   "cell_type": "code",
   "execution_count": 36,
   "id": "bfaa87cf-45b8-4d14-b635-60f506410584",
   "metadata": {},
   "outputs": [
    {
     "name": "stdout",
     "output_type": "stream",
     "text": [
      "Pascal's Triangle:\n",
      "[1]\n",
      "[1, 1]\n",
      "[1, 2, 1]\n",
      "[1, 3, 3, 1]\n",
      "[1, 4, 6, 4, 1]\n"
     ]
    }
   ],
   "source": [
    "def generate_pascals_triangle(rows):\n",
    "    triangle = [[1]]\n",
    "    for i in range(1, rows):\n",
    "        row = [1] + [triangle[i-1][j] + triangle[i-1][j+1] for j in range(len(triangle[i-1])-1)] + [1]\n",
    "        triangle.append(row)\n",
    "    return triangle\n",
    "\n",
    "rows = 5\n",
    "pascals_triangle = generate_pascals_triangle(rows)\n",
    "print(\"Pascal's Triangle:\")\n",
    "for row in pascals_triangle:\n",
    "    print(row)"
   ]
  },
  {
   "cell_type": "markdown",
   "id": "abf19cbb-cb27-4b87-b894-3d7f5fdfe724",
   "metadata": {},
   "source": [
    "Calculating the sum of the digits of the factorial of numbers from 1 to 5 using list comprehension:"
   ]
  },
  {
   "cell_type": "code",
   "execution_count": 37,
   "id": "3e3b467d-709a-4fd4-ac83-bcbc11ffebc7",
   "metadata": {},
   "outputs": [
    {
     "name": "stdout",
     "output_type": "stream",
     "text": [
      "Sum of digits of factorials: [1, 2, 6, 6, 3]\n"
     ]
    }
   ],
   "source": [
    "import math\n",
    "\n",
    "sum_of_digit_factorials = [sum(int(digit) for digit in str(math.factorial(num))) for num in range(1, 6)]\n",
    "\n",
    "print(\"Sum of digits of factorials:\", sum_of_digit_factorials)"
   ]
  },
  {
   "cell_type": "markdown",
   "id": "01192970-46c7-4130-b7b2-aef18e6c6ad1",
   "metadata": {},
   "source": [
    "Finding the longest word in a sentence using list comprehension:"
   ]
  },
  {
   "cell_type": "code",
   "execution_count": 38,
   "id": "0ed45519-2a2f-45c1-a7cc-4bc811b57993",
   "metadata": {},
   "outputs": [
    {
     "name": "stdout",
     "output_type": "stream",
     "text": [
      "Longest word: quick\n"
     ]
    }
   ],
   "source": [
    "sentence = \"The quick brown fox jumps over the lazy dog\"\n",
    "longest_word = max(sentence.split(), key=len)\n",
    "print(\"Longest word:\", longest_word)"
   ]
  },
  {
   "cell_type": "raw",
   "id": "a74f301f-a23f-4108-8992-4f26fa8bcb6a",
   "metadata": {},
   "source": [
    "Filtering a list of strings to include only those with more than three vowels using list comprehension:"
   ]
  },
  {
   "cell_type": "code",
   "execution_count": 39,
   "id": "f5379b44-d352-42b0-8626-f7535ee7d804",
   "metadata": {},
   "outputs": [
    {
     "name": "stdout",
     "output_type": "stream",
     "text": [
      "Words with more than three vowels: []\n"
     ]
    }
   ],
   "source": [
    "words = [\"hello\", \"world\", \"Python\", \"programming\", \"AI\"]\n",
    "vowels = 'aeiouAEIOU'\n",
    "\n",
    "filtered_words = [word for word in words if sum(1 for char in word if char in vowels) > 3]\n",
    "\n",
    "print(\"Words with more than three vowels:\", filtered_words)"
   ]
  },
  {
   "cell_type": "raw",
   "id": "a2cea255-5509-4dab-b6c2-395de7456225",
   "metadata": {},
   "source": [
    "Calculating the sum of the digits of numbers from 1 to 1000 using list comprehension:"
   ]
  },
  {
   "cell_type": "code",
   "execution_count": 40,
   "id": "29d487e4-f8b4-4a67-8316-8e0f749984ff",
   "metadata": {},
   "outputs": [
    {
     "name": "stdout",
     "output_type": "stream",
     "text": [
      "Sum of digits from 1 to 1000: 13501\n"
     ]
    }
   ],
   "source": [
    "sum_of_digits = sum(sum(int(digit) for digit in str(num)) for num in range(1, 1001))\n",
    "\n",
    "print(\"Sum of digits from 1 to 1000:\", sum_of_digits)"
   ]
  },
  {
   "cell_type": "markdown",
   "id": "2f52e324-a56b-4c01-8b84-2dba0bd81d4e",
   "metadata": {},
   "source": [
    "Generating a list of prime palindromic numbers using list comprehension:"
   ]
  },
  {
   "cell_type": "code",
   "execution_count": 41,
   "id": "79fe41f3-b174-4df6-9398-fdbd4af1098c",
   "metadata": {},
   "outputs": [
    {
     "name": "stdout",
     "output_type": "stream",
     "text": [
      "Prime palindromic numbers: [2, 3, 5, 7, 11, 101, 131, 151, 181, 191, 313, 353, 373, 383, 727, 757, 787, 797, 919, 929]\n"
     ]
    }
   ],
   "source": [
    "def is_prime(num):\n",
    "    if num < 2:\n",
    "        return False\n",
    "    for i in range(2, int(num ** 0.5) + 1):\n",
    "        if num % i == 0:\n",
    "            return False\n",
    "    return True\n",
    "\n",
    "prime_palindromes = [num for num in range(1, 1001) if is_prime(num) and str(num) == str(num)[::-1]]\n",
    "\n",
    "print(\"Prime palindromic numbers:\", prime_palindromes)"
   ]
  },
  {
   "cell_type": "code",
   "execution_count": null,
   "id": "bfaae54c-271c-405b-96cd-71703d0fba33",
   "metadata": {},
   "outputs": [],
   "source": []
  }
 ],
 "metadata": {
  "kernelspec": {
   "display_name": "Python 3 (ipykernel)",
   "language": "python",
   "name": "python3"
  },
  "language_info": {
   "codemirror_mode": {
    "name": "ipython",
    "version": 3
   },
   "file_extension": ".py",
   "mimetype": "text/x-python",
   "name": "python",
   "nbconvert_exporter": "python",
   "pygments_lexer": "ipython3",
   "version": "3.10.8"
  }
 },
 "nbformat": 4,
 "nbformat_minor": 5
}
